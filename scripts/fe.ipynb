{
 "cells": [
  {
   "cell_type": "code",
   "execution_count": 2,
   "metadata": {},
   "outputs": [
    {
     "name": "stderr",
     "output_type": "stream",
     "text": [
      "/Users/sunluohao/miniforge3/envs/tsfm/lib/python3.11/site-packages/lightning/pytorch/utilities/parsing.py:208: Attribute 'backbone' is an instance of `nn.Module` and is already saved during checkpointing. It is recommended to ignore them using `self.save_hyperparameters(ignore=['backbone'])`.\n",
      "/Users/sunluohao/miniforge3/envs/tsfm/lib/python3.11/site-packages/lightning/pytorch/utilities/parsing.py:208: Attribute 'custom_head' is an instance of `nn.Module` and is already saved during checkpointing. It is recommended to ignore them using `self.save_hyperparameters(ignore=['custom_head'])`.\n"
     ]
    },
    {
     "data": {
      "text/html": [
       "<pre style=\"white-space:pre;overflow-x:auto;line-height:normal;font-family:Menlo,'DejaVu Sans Mono',consolas,'Courier New',monospace\">No hyperparameters found in the backbone. Save your hyperparameters in backbone.hparams.\n",
       "</pre>\n"
      ],
      "text/plain": [
       "No hyperparameters found in the backbone. Save your hyperparameters in backbone.hparams.\n"
      ]
     },
     "metadata": {},
     "output_type": "display_data"
    },
    {
     "name": "stderr",
     "output_type": "stream",
     "text": [
      "GPU available: True (mps), used: False\n",
      "TPU available: False, using: 0 TPU cores\n",
      "HPU available: False, using: 0 HPUs\n",
      "/Users/sunluohao/miniforge3/envs/tsfm/lib/python3.11/site-packages/lightning/pytorch/trainer/setup.py:177: GPU available but not used. You can set it by doing `Trainer(accelerator='gpu')`.\n"
     ]
    },
    {
     "data": {
      "text/html": [
       "<pre style=\"white-space:pre;overflow-x:auto;line-height:normal;font-family:Menlo,'DejaVu Sans Mono',consolas,'Courier New',monospace\">┏━━━┳━━━━━━━━━━━━━━━━━━━━━┳━━━━━━━━━━┳━━━━━━━━┳━━━━━━━┓\n",
       "┃<span style=\"color: #800080; text-decoration-color: #800080; font-weight: bold\">   </span>┃<span style=\"color: #800080; text-decoration-color: #800080; font-weight: bold\"> Name                </span>┃<span style=\"color: #800080; text-decoration-color: #800080; font-weight: bold\"> Type     </span>┃<span style=\"color: #800080; text-decoration-color: #800080; font-weight: bold\"> Params </span>┃<span style=\"color: #800080; text-decoration-color: #800080; font-weight: bold\"> Mode  </span>┃\n",
       "┡━━━╇━━━━━━━━━━━━━━━━━━━━━╇━━━━━━━━━━╇━━━━━━━━╇━━━━━━━┩\n",
       "│<span style=\"color: #7f7f7f; text-decoration-color: #7f7f7f\"> 0 </span>│ _framework_backbone │ Chronos  │      1 │ train │\n",
       "│<span style=\"color: #7f7f7f; text-decoration-color: #7f7f7f\"> 1 </span>│ _framework_neck     │ Identity │      0 │ train │\n",
       "│<span style=\"color: #7f7f7f; text-decoration-color: #7f7f7f\"> 2 </span>│ _framework_head     │ Identity │      0 │ train │\n",
       "└───┴─────────────────────┴──────────┴────────┴───────┘\n",
       "</pre>\n"
      ],
      "text/plain": [
       "┏━━━┳━━━━━━━━━━━━━━━━━━━━━┳━━━━━━━━━━┳━━━━━━━━┳━━━━━━━┓\n",
       "┃\u001b[1;35m \u001b[0m\u001b[1;35m \u001b[0m\u001b[1;35m \u001b[0m┃\u001b[1;35m \u001b[0m\u001b[1;35mName               \u001b[0m\u001b[1;35m \u001b[0m┃\u001b[1;35m \u001b[0m\u001b[1;35mType    \u001b[0m\u001b[1;35m \u001b[0m┃\u001b[1;35m \u001b[0m\u001b[1;35mParams\u001b[0m\u001b[1;35m \u001b[0m┃\u001b[1;35m \u001b[0m\u001b[1;35mMode \u001b[0m\u001b[1;35m \u001b[0m┃\n",
       "┡━━━╇━━━━━━━━━━━━━━━━━━━━━╇━━━━━━━━━━╇━━━━━━━━╇━━━━━━━┩\n",
       "│\u001b[2m \u001b[0m\u001b[2m0\u001b[0m\u001b[2m \u001b[0m│ _framework_backbone │ Chronos  │      1 │ train │\n",
       "│\u001b[2m \u001b[0m\u001b[2m1\u001b[0m\u001b[2m \u001b[0m│ _framework_neck     │ Identity │      0 │ train │\n",
       "│\u001b[2m \u001b[0m\u001b[2m2\u001b[0m\u001b[2m \u001b[0m│ _framework_head     │ Identity │      0 │ train │\n",
       "└───┴─────────────────────┴──────────┴────────┴───────┘\n"
      ]
     },
     "metadata": {},
     "output_type": "display_data"
    },
    {
     "data": {
      "text/html": [
       "<pre style=\"white-space:pre;overflow-x:auto;line-height:normal;font-family:Menlo,'DejaVu Sans Mono',consolas,'Courier New',monospace\"><span style=\"font-weight: bold\">Trainable params</span>: 1                                                                                                \n",
       "<span style=\"font-weight: bold\">Non-trainable params</span>: 0                                                                                            \n",
       "<span style=\"font-weight: bold\">Total params</span>: 1                                                                                                    \n",
       "<span style=\"font-weight: bold\">Total estimated model params size (MB)</span>: 0                                                                          \n",
       "</pre>\n"
      ],
      "text/plain": [
       "\u001b[1mTrainable params\u001b[0m: 1                                                                                                \n",
       "\u001b[1mNon-trainable params\u001b[0m: 0                                                                                            \n",
       "\u001b[1mTotal params\u001b[0m: 1                                                                                                    \n",
       "\u001b[1mTotal estimated model params size (MB)\u001b[0m: 0                                                                          \n"
      ]
     },
     "metadata": {},
     "output_type": "display_data"
    },
    {
     "data": {
      "application/vnd.jupyter.widget-view+json": {
       "model_id": "d78d759dacb14c128588cba317c03be4",
       "version_major": 2,
       "version_minor": 0
      },
      "text/plain": [
       "Output()"
      ]
     },
     "metadata": {},
     "output_type": "display_data"
    },
    {
     "data": {
      "text/html": [
       "<pre style=\"white-space:pre;overflow-x:auto;line-height:normal;font-family:Menlo,'DejaVu Sans Mono',consolas,'Courier New',monospace\">/Users/sunluohao/miniforge3/envs/tsfm/lib/python3.11/site-packages/chronos/chronos.py:181: UserWarning: \n",
       "torch.searchsorted(): input value tensor is non-contiguous, this will lower the performance due to extra data copy \n",
       "when converting non-contiguous tensor to contiguous, please use contiguous input value tensor if possible. This \n",
       "message will only appear once per program. (Triggered internally at \n",
       "/Users/runner/work/pytorch/pytorch/pytorch/aten/src/ATen/native/BucketizationUtils.h:34.)\n",
       "  torch.bucketize(\n",
       "</pre>\n"
      ],
      "text/plain": [
       "/Users/sunluohao/miniforge3/envs/tsfm/lib/python3.11/site-packages/chronos/chronos.py:181: UserWarning: \n",
       "torch.searchsorted(): input value tensor is non-contiguous, this will lower the performance due to extra data copy \n",
       "when converting non-contiguous tensor to contiguous, please use contiguous input value tensor if possible. This \n",
       "message will only appear once per program. (Triggered internally at \n",
       "/Users/runner/work/pytorch/pytorch/pytorch/aten/src/ATen/native/BucketizationUtils.h:34.)\n",
       "  torch.bucketize(\n"
      ]
     },
     "metadata": {},
     "output_type": "display_data"
    },
    {
     "data": {
      "text/html": [
       "<pre style=\"white-space:pre;overflow-x:auto;line-height:normal;font-family:Menlo,'DejaVu Sans Mono',consolas,'Courier New',monospace\">/Users/sunluohao/miniforge3/envs/tsfm/lib/python3.11/site-packages/chronos/chronos.py:210: TracerWarning: \n",
       "Converting a tensor to a Python boolean might cause the trace to be incorrect. We can't record the data flow of \n",
       "Python values, so this value will be treated as a constant in the future. This means that the trace might not \n",
       "generalize to other inputs!\n",
       "  if length &gt; self.config.context_length:\n",
       "</pre>\n"
      ],
      "text/plain": [
       "/Users/sunluohao/miniforge3/envs/tsfm/lib/python3.11/site-packages/chronos/chronos.py:210: TracerWarning: \n",
       "Converting a tensor to a Python boolean might cause the trace to be incorrect. We can't record the data flow of \n",
       "Python values, so this value will be treated as a constant in the future. This means that the trace might not \n",
       "generalize to other inputs!\n",
       "  if length > self.config.context_length:\n"
      ]
     },
     "metadata": {},
     "output_type": "display_data"
    },
    {
     "data": {
      "text/html": [
       "<pre style=\"white-space:pre;overflow-x:auto;line-height:normal;font-family:Menlo,'DejaVu Sans Mono',consolas,'Courier New',monospace\">/Users/sunluohao/miniforge3/envs/tsfm/lib/python3.11/site-packages/transformers/generation/utils.py:1479: \n",
       "TracerWarning: torch.tensor results are registered as constants in the trace. You can safely ignore this warning if\n",
       "you use this function to create tensors out of constant variables that would be the same every time you call this \n",
       "function. In any other case, this might cause the trace to be incorrect.\n",
       "  return torch.tensor(token, device=device, dtype=torch.long)\n",
       "</pre>\n"
      ],
      "text/plain": [
       "/Users/sunluohao/miniforge3/envs/tsfm/lib/python3.11/site-packages/transformers/generation/utils.py:1479: \n",
       "TracerWarning: torch.tensor results are registered as constants in the trace. You can safely ignore this warning if\n",
       "you use this function to create tensors out of constant variables that would be the same every time you call this \n",
       "function. In any other case, this might cause the trace to be incorrect.\n",
       "  return torch.tensor(token, device=device, dtype=torch.long)\n"
      ]
     },
     "metadata": {},
     "output_type": "display_data"
    },
    {
     "data": {
      "text/html": [
       "<pre style=\"white-space:pre;overflow-x:auto;line-height:normal;font-family:Menlo,'DejaVu Sans Mono',consolas,'Courier New',monospace\">/Users/sunluohao/miniforge3/envs/tsfm/lib/python3.11/site-packages/transformers/generation/utils.py:1513: \n",
       "TracerWarning: Converting a tensor to a Python boolean might cause the trace to be incorrect. We can't record the \n",
       "data flow of Python values, so this value will be treated as a constant in the future. This means that the trace \n",
       "might not generalize to other inputs!\n",
       "  if eos_token_id is not None and torch.isin(elements=eos_token_id, test_elements=pad_token_id).any():\n",
       "</pre>\n"
      ],
      "text/plain": [
       "/Users/sunluohao/miniforge3/envs/tsfm/lib/python3.11/site-packages/transformers/generation/utils.py:1513: \n",
       "TracerWarning: Converting a tensor to a Python boolean might cause the trace to be incorrect. We can't record the \n",
       "data flow of Python values, so this value will be treated as a constant in the future. This means that the trace \n",
       "might not generalize to other inputs!\n",
       "  if eos_token_id is not None and torch.isin(elements=eos_token_id, test_elements=pad_token_id).any():\n"
      ]
     },
     "metadata": {},
     "output_type": "display_data"
    },
    {
     "data": {
      "text/html": [
       "<pre style=\"white-space:pre;overflow-x:auto;line-height:normal;font-family:Menlo,'DejaVu Sans Mono',consolas,'Courier New',monospace\">/Users/sunluohao/miniforge3/envs/tsfm/lib/python3.11/site-packages/transformers/generation/utils.py:1526: \n",
       "TracerWarning: Converting a tensor to a Python boolean might cause the trace to be incorrect. We can't record the \n",
       "data flow of Python values, so this value will be treated as a constant in the future. This means that the trace \n",
       "might not generalize to other inputs!\n",
       "  if eos_token_id is not None and (torch.is_floating_point(eos_token_id) or (eos_token_id &lt; 0).any()):\n",
       "</pre>\n"
      ],
      "text/plain": [
       "/Users/sunluohao/miniforge3/envs/tsfm/lib/python3.11/site-packages/transformers/generation/utils.py:1526: \n",
       "TracerWarning: Converting a tensor to a Python boolean might cause the trace to be incorrect. We can't record the \n",
       "data flow of Python values, so this value will be treated as a constant in the future. This means that the trace \n",
       "might not generalize to other inputs!\n",
       "  if eos_token_id is not None and (torch.is_floating_point(eos_token_id) or (eos_token_id < 0).any()):\n"
      ]
     },
     "metadata": {},
     "output_type": "display_data"
    }
   ],
   "source": [
    "import os\n",
    "os.chdir('..')\n",
    "\n",
    "# 使用metroBJ数据集测试各个模型的序列预测性能\n",
    "import torch.nn as nn\n",
    "\n",
    "def main():\n",
    "\n",
    "    # 1. 读取数据\n",
    "    INPUT_LENGTH = 24  # 输入序列长度\n",
    "    OUTPUT_LENGTH = 12  # 输出序列长度\n",
    "    NUM_STATIONS = 276  # 地铁站点数（特征数）\n",
    "\n",
    "    from data.BJinflow import BJInflowDataModule\n",
    "\n",
    "    datamodule = BJInflowDataModule(\n",
    "        input_length=INPUT_LENGTH,\n",
    "        output_length=OUTPUT_LENGTH,\n",
    "        batch_size=1,\n",
    "        train_val_test_split=(0.7, 0.2, 0.1),\n",
    "    )\n",
    "\n",
    "    # 2. 选择骨干模型\n",
    "    from pretrained import Chronos\n",
    "\n",
    "    chronos_backbone = Chronos(\n",
    "        size=\"tiny\",\n",
    "        task=\"forecasting\",\n",
    "        out_seq_len=OUTPUT_LENGTH,\n",
    "        device_map=\"cpu\",\n",
    "    )\n",
    "\n",
    "    # 3. 选择任务框架\n",
    "    from frameworks import ForecastingFramework\n",
    "\n",
    "    chronos_framework = ForecastingFramework(\n",
    "        backbone=chronos_backbone,\n",
    "        custom_head=nn.Identity(),  # 因为要使用backbone的0-shot能力，因此不需要额外的头部\n",
    "        # 以下参数其实没用：\n",
    "        backbone_out_features=NUM_STATIONS,\n",
    "        out_seq_len=OUTPUT_LENGTH,\n",
    "        out_features=NUM_STATIONS,\n",
    "    )\n",
    "\n",
    "    # 4. 训练模型\n",
    "    chronos_framework.fit(\n",
    "        datamodule=datamodule, max_epochs=0, lr=1e-3, accelerator='cpu'\n",
    "    )  # 仅用于初始化Trainer\n",
    "    chronos_framework.test(datamodule=datamodule)\n",
    "\n",
    "if __name__ == \"__main__\":\n",
    "    main()"
   ]
  }
 ],
 "metadata": {
  "kernelspec": {
   "display_name": "tsfm",
   "language": "python",
   "name": "python3"
  },
  "language_info": {
   "codemirror_mode": {
    "name": "ipython",
    "version": 3
   },
   "file_extension": ".py",
   "mimetype": "text/x-python",
   "name": "python",
   "nbconvert_exporter": "python",
   "pygments_lexer": "ipython3",
   "version": "3.11.9"
  }
 },
 "nbformat": 4,
 "nbformat_minor": 2
}
