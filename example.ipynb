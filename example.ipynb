{
 "cells": [
  {
   "cell_type": "markdown",
   "metadata": {},
   "source": [
    "# Bearing Fault Classification Using PatchTST Pretraining & Finetuning\n",
    "\n",
    "-- Example usage of this repo."
   ]
  },
  {
   "cell_type": "code",
   "execution_count": null,
   "metadata": {},
   "outputs": [],
   "source": [
    "from Modules.patchtst import PatchTSTRandomMaskedReconstructionModel, PatchTSTClassificationModel\n",
    "from data.bearing_fault_prediction.raw.fault_prediction_datamodule import FaultPredictionDataModule\n",
    "from lightning.pytorch import Trainer\n",
    "from lightning.pytorch.loggers import NeptuneLogger\n",
    "from lightning.pytorch.callbacks import RichProgressBar"
   ]
  },
  {
   "cell_type": "code",
   "execution_count": null,
   "metadata": {},
   "outputs": [],
   "source": [
    "# 数据集 ===============================================\n",
    "fault_data = FaultPredictionDataModule(\n",
    "    train_val_test_split=(2800, 400, 800),\n",
    "    batch_size=40,\n",
    "    num_workers=4,\n",
    "    pin_memory=True,\n",
    ")"
   ]
  },
  {
   "cell_type": "code",
   "execution_count": null,
   "metadata": {},
   "outputs": [],
   "source": [
    "# callback ============================================\n",
    "callbacks = [\n",
    "    RichProgressBar(),\n",
    "]"
   ]
  },
  {
   "cell_type": "markdown",
   "metadata": {},
   "source": [
    "## Pretraining: Patch-wise Masked Autoencoding\n",
    "\n",
    "- Lightning model, logger and trainer"
   ]
  },
  {
   "cell_type": "code",
   "execution_count": null,
   "metadata": {},
   "outputs": [],
   "source": [
    "patchTST = PatchTSTRandomMaskedReconstructionModel(\n",
    "    in_features=1,\n",
    "    d_model=128,\n",
    "    patch_size=64,\n",
    "    patch_stride=64,\n",
    "    num_layers=2,\n",
    "    dropout=0.1,\n",
    "    nhead=4,\n",
    "    activation='relu',\n",
    "    norm_first=True,\n",
    "\n",
    "    mask_ratio=0.4,\n",
    "    learnable_mask=False\n",
    ")\n",
    "\n",
    "logger = NeptuneLogger(\n",
    "    project='bearing-fault-classification',\n",
    "    name='pretrain',\n",
    "    api_token='eyJhcGlfYWRkcmVzcyI6Imh0dHBzOi8vYXBwLm5lcHR1bmUuYWkiLCJhcGlfdXJsIjoiaHR0cHM6Ly9hcHAubmVwdHVuZS5haSIsImFwaV9rZXkiOiJhNDgzNmZlMC02ZDgyLTQyZDAtOWI4Zi0yMzdiOGU4OTk2N2IifQ=='\n",
    ")\n",
    "\n",
    "trainer = Trainer(\n",
    "    max_epochs=100,\n",
    "    accelerator='auto',\n",
    "    logger=logger,   # type: ignore\n",
    "    callbacks=callbacks  # type: ignore\n",
    ")"
   ]
  },
  {
   "cell_type": "markdown",
   "metadata": {},
   "source": [
    "- Run fitting and get pretrained backbone"
   ]
  },
  {
   "cell_type": "code",
   "execution_count": null,
   "metadata": {},
   "outputs": [],
   "source": [
    "trainer.fit(patchTST, fault_data)\n",
    "pretrained_backbone = patchTST.backbone"
   ]
  },
  {
   "cell_type": "markdown",
   "metadata": {},
   "source": [
    "## Down-stream Task Finetuing: Classification\n",
    "\n",
    "- Lightning Model, Logger and Trainer"
   ]
  },
  {
   "cell_type": "code",
   "execution_count": null,
   "metadata": {},
   "outputs": [],
   "source": [
    "patchTST = PatchTSTClassificationModel(\n",
    "    in_features=1,\n",
    "    d_model=128,\n",
    "    patch_size=64,\n",
    "    patch_stride=64,\n",
    "    num_layers=2,\n",
    "    dropout=0.1,\n",
    "    nhead=4,\n",
    "    activation='relu',\n",
    "    norm_first=True,\n",
    "\n",
    "    num_classes=4,\n",
    "    lr=1e-4\n",
    ")\n",
    "patchTST.backbone = pretrained_backbone\n",
    "\n",
    "logger = NeptuneLogger(\n",
    "    project='bearing-fault-classification',\n",
    "    name='finetune',\n",
    "    api_token='eyJhcGlfYWRkcmVzcyI6Imh0dHBzOi8vYXBwLm5lcHR1bmUuYWkiLCJhcGlfdXJsIjoiaHR0cHM6Ly9hcHAubmVwdHVuZS5haSIsImFwaV9rZXkiOiJhNDgzNmZlMC02ZDgyLTQyZDAtOWI4Zi0yMzdiOGU4OTk2N2IifQ=='\n",
    ")\n",
    "\n",
    "trainer = Trainer(\n",
    "    max_epochs=20,\n",
    "    accelerator='auto',\n",
    "    logger=logger,   # type: ignore\n",
    "    callbacks=callbacks  # type: ignore\n",
    ")"
   ]
  },
  {
   "cell_type": "markdown",
   "metadata": {},
   "source": [
    "- Run finetuning and test"
   ]
  },
  {
   "cell_type": "code",
   "execution_count": null,
   "metadata": {},
   "outputs": [],
   "source": [
    "trainer.fit(patchTST, fault_data)\n",
    "trainer.test(patchTST, fault_data)"
   ]
  }
 ],
 "metadata": {
  "kernelspec": {
   "display_name": "lightning",
   "language": "python",
   "name": "python3"
  },
  "language_info": {
   "codemirror_mode": {
    "name": "ipython",
    "version": 3
   },
   "file_extension": ".py",
   "mimetype": "text/x-python",
   "name": "python",
   "nbconvert_exporter": "python",
   "pygments_lexer": "ipython3",
   "version": "3.12.2"
  }
 },
 "nbformat": 4,
 "nbformat_minor": 2
}
