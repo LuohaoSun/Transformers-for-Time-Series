{
 "cells": [
  {
   "cell_type": "markdown",
   "metadata": {},
   "source": [
    "### Step 1: Choose the Dataset\n",
    "\n",
    "- All datasets are provided in a format of `Lightning.LightningDataModule` Class, including training, validation and test subsets.\n",
    "- Find the dataset you want in `data/` and simply import it.\n",
    "- here we use a bearing fault type classification dataset:\n",
    "    - input shape: `(b_size, seq_len=4096, num_features=1)`\n",
    "    - output shape: `(b_size, num_classes=4)`"
   ]
  },
  {
   "cell_type": "code",
   "execution_count": null,
   "metadata": {},
   "outputs": [],
   "source": [
    "import torch\n",
    "from data.bearing_fault_prediction.raw.fault_prediction_datamodule import FaultPredictionDataModule\n",
    "\n",
    "data_module = FaultPredictionDataModule()   "
   ]
  },
  {
   "cell_type": "markdown",
   "metadata": {},
   "source": [
    "### Step 2: Choose the Model\n",
    "- Find the model you want in:\n",
    "    - `Modules/classification_models.py`  for classification tasks\n",
    "    - `Modules/regression_models.py`      for regression tasks"
   ]
  },
  {
   "cell_type": "code",
   "execution_count": null,
   "metadata": {},
   "outputs": [],
   "source": [
    "from Modules.classification_models import SimpleConv1dClassificationModel\n",
    "\n",
    "model = SimpleConv1dClassificationModel(\n",
    "    in_features=1,\n",
    "    num_classes=4,\n",
    "    hidden_features=64,\n",
    "    kernel_size=16,\n",
    "    stride=8,\n",
    "    padding=4,\n",
    "    pool_size=64,\n",
    "    activation='relu',\n",
    "\n",
    "    # training params intagrated in models:\n",
    "    lr=1e-3,\n",
    "    max_epochs=50,\n",
    ")\n",
    "\n",
    "# for a higher performance experiment, try using PatchTST:\n",
    "\n",
    "# from Modules.classification_models import PatchTSTClassificationModel\n",
    "# model = PatchTSTClassificationModel(\n",
    "#     in_features=1,\n",
    "#     d_model=64,\n",
    "#     num_classes=4,\n",
    "#     patch_size=64,\n",
    "#     patch_stride=32,\n",
    "#     dropout=0.1,\n",
    "#     nhead=2,\n",
    "#     num_layers=2,\n",
    "#     norm_first=True,\n",
    "#     activation='gelu',\n",
    "    \n",
    "#     lr=1e-3,\n",
    "#     max_epochs=50,\n",
    "# )"
   ]
  },
  {
   "cell_type": "markdown",
   "metadata": {},
   "source": [
    "### Step 3: Run Training and Testing\n",
    "- All training, validation and testing steps intagrated\n",
    "    - just run `model.fit(datamodule)` to train itself\n",
    "    - run `model.test(datamodule)` to test itself\n",
    "    - callbacks, loss functions, metrics all implemented for every type of tasks, e.g. classification, regression and others\n",
    "- tensorboard logger also intagrated"
   ]
  },
  {
   "cell_type": "code",
   "execution_count": 3,
   "metadata": {},
   "outputs": [],
   "source": [
    "import subprocess\n",
    "# open localhost:6006 in your browser to view training logs\n",
    "pid = subprocess.Popen([\"tensorboard\", \"--logdir=lightning_logs\"]).pid\n",
    "model.fit(data_module)\n",
    "model.test(data_module)"
   ]
  },
  {
   "cell_type": "code",
   "execution_count": null,
   "metadata": {},
   "outputs": [],
   "source": [
    "subprocess.Popen([\"kill\", str(pid)])"
   ]
  },
  {
   "cell_type": "markdown",
   "metadata": {},
   "source": [
    "### Step 4: Model Inference\n",
    "- use `model.forward(input_tensor)` or `model(input_tensor)`, just the same as a standard nn.Module."
   ]
  },
  {
   "cell_type": "code",
   "execution_count": null,
   "metadata": {},
   "outputs": [],
   "source": [
    "y = model(torch.randn(32, 4096, 1))  # batch size 32, 4096 timesteps, 1 feature\n",
    "# or simply\n",
    "# y = model(torch.randn(32, 4096, 1))\n",
    "print(torch.softmax(y, dim=-1))"
   ]
  }
 ],
 "metadata": {
  "kernelspec": {
   "display_name": "lightning",
   "language": "python",
   "name": "python3"
  },
  "language_info": {
   "codemirror_mode": {
    "name": "ipython",
    "version": 3
   },
   "file_extension": ".py",
   "mimetype": "text/x-python",
   "name": "python",
   "nbconvert_exporter": "python",
   "pygments_lexer": "ipython3",
   "version": "3.12.2"
  }
 },
 "nbformat": 4,
 "nbformat_minor": 2
}
