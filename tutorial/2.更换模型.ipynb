{
 "cells": [
  {
   "cell_type": "code",
   "execution_count": null,
   "metadata": {},
   "outputs": [],
   "source": [
    "    # model = PatchTSTClassificationModel(\n",
    "    #     in_features=1,\n",
    "    #     d_model=64,\n",
    "    #     num_classes=4,\n",
    "    #     patch_size=64,\n",
    "    #     patch_stride=32,\n",
    "    #     dropout=0.1,\n",
    "    #     nhead=2,\n",
    "    #     num_layers=2,\n",
    "    #     norm_first=True,\n",
    "    #     activation='gelu',\n",
    "\n",
    "    #     lr=1e-3,\n",
    "    #     max_epochs=50,\n",
    "\n",
    "    # )"
   ]
  }
 ],
 "metadata": {
  "language_info": {
   "name": "python"
  }
 },
 "nbformat": 4,
 "nbformat_minor": 2
}
