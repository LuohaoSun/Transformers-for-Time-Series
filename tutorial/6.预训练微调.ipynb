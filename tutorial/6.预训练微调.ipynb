{
 "cells": [
  {
   "cell_type": "markdown",
   "metadata": {},
   "source": [
    "核心设计：同一个backbone可以适用于不同的任务的framework：分类、回归、自编码等等，无需任何改动。这使得我们可以很方便的尝试不同的任务，而不需要重新设计网络结构，从而大大简化了预训练-微调的流程。"
   ]
  },
  {
   "cell_type": "code",
   "execution_count": null,
   "metadata": {},
   "outputs": [],
   "source": []
  }
 ],
 "metadata": {
  "language_info": {
   "name": "python"
  }
 },
 "nbformat": 4,
 "nbformat_minor": 2
}
